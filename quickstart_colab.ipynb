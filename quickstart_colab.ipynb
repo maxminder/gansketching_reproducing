{
  "nbformat": 4,
  "nbformat_minor": 2,
  "metadata": {
    "accelerator": "GPU",
    "colab": {
      "name": "Sketch Your Own GAN Examples",
      "provenance": [],
      "authorship_tag": "ABX9TyN3RlS8D9HUCX0pdx4YLNag",
      "include_colab_link": true
    },
    "kernelspec": {
      "display_name": "Python 3",
      "name": "python3"
    },
    "language_info": {
      "name": "python"
    }
  },
  "cells": [
    {
      "cell_type": "markdown",
      "source": [
        "<a href=\"https://colab.research.google.com/github/bionboy/GANSketching/blob/main/QuickStart_Colab.ipynb\" target=\"_parent\"><img src=\"https://colab.research.google.com/assets/colab-badge.svg\" alt=\"Open In Colab\"/></a>"
      ],
      "metadata": {
        "id": "view-in-github",
        "colab_type": "text"
      }
    },
    {
      "cell_type": "markdown",
      "source": [
        "# Setup"
      ],
      "metadata": {
        "id": "J3taKAQM5iHr"
      }
    },
    {
      "cell_type": "code",
      "execution_count": null,
      "source": [
        "%%bash\n",
        "git clone https://github.com/PeterWang512/GANSketching.git\n",
        "cd GANSketching\n",
        "\n",
        "pip install -r requirements.txt\n",
        "\n",
        "bash weights/download_weights.sh"
      ],
      "outputs": [],
      "metadata": {
        "id": "caiDtQokcdlu"
      }
    },
    {
      "cell_type": "code",
      "execution_count": null,
      "source": [
        "%%bash\n",
        "pip install gpp ninja"
      ],
      "outputs": [],
      "metadata": {
        "id": "LWIfZZZNd6O4"
      }
    },
    {
      "cell_type": "markdown",
      "source": [
        "# Example Commands"
      ],
      "metadata": {
        "id": "9qJoif0C5gJj"
      }
    },
    {
      "cell_type": "markdown",
      "source": [
        "## Generate samples from a customized model"
      ],
      "metadata": {
        "id": "Yq1vngV05XYE"
      }
    },
    {
      "cell_type": "markdown",
      "source": [
        "### Standing Cat"
      ],
      "metadata": {
        "id": "kfCPe7_K5aCw"
      }
    },
    {
      "cell_type": "code",
      "execution_count": null,
      "source": [
        "%%bash\n",
        "cd GANSketching/\n",
        "python generate.py --ckpt weights/photosketch_standing_cat_noaug.pth --save_dir output/samples_standing_cat"
      ],
      "outputs": [],
      "metadata": {
        "colab": {
          "base_uri": "https://localhost:8080/"
        },
        "id": "s_iCzWBBcnQt",
        "outputId": "2ec3dd14-1578-4661-e234-ca369037d1ef"
      }
    },
    {
      "cell_type": "markdown",
      "source": [
        "### Teaser Cat"
      ],
      "metadata": {
        "id": "OXj_TlVK5b3j"
      }
    },
    {
      "cell_type": "code",
      "execution_count": null,
      "source": [
        "%%bash\n",
        "cd GANSketching/\n",
        "python generate.py --ckpt weights/by_author_cat_aug.pth --save_dir output/samples_teaser_cat"
      ],
      "outputs": [],
      "metadata": {
        "colab": {
          "base_uri": "https://localhost:8080/"
        },
        "id": "dy2qhdGl17Jz",
        "outputId": "b553a2a2-1372-48b3-8d1e-d5762d21f94b"
      }
    },
    {
      "cell_type": "markdown",
      "source": [
        "## Latent space edits by GANSpace"
      ],
      "metadata": {
        "id": "e_SVsGvV5TM3"
      }
    },
    {
      "cell_type": "markdown",
      "source": [
        "### add fur to the standing cats"
      ],
      "metadata": {
        "id": "VKYmGzLX5Ro7"
      }
    },
    {
      "cell_type": "code",
      "execution_count": null,
      "source": [
        "%%bash\n",
        "cd GANSketching/\n",
        "\n",
        "python ganspace.py --obj cat --comp_id 27 --scalar 50 --layers 2,4 --ckpt weights/photosketch_standing_cat_noaug.pth --save_dir output/ganspace_fur_standing_cat"
      ],
      "outputs": [],
      "metadata": {
        "id": "1ViONcvQ2GQD"
      }
    },
    {
      "cell_type": "markdown",
      "source": [
        "###  close the eyes of the standing cats"
      ],
      "metadata": {
        "id": "qOyCkwjO5PcG"
      }
    },
    {
      "cell_type": "code",
      "execution_count": null,
      "source": [
        "%%bash\n",
        "cd GANSketching/\n",
        "python ganspace.py --obj cat --comp_id 45 --scalar 60 --layers 5,7 --ckpt weights/photosketch_standing_cat_noaug.pth --save_dir output/ganspace_eye_standing_cat"
      ],
      "outputs": [],
      "metadata": {
        "id": "1tlR2kS82LoR"
      }
    }
  ]
}